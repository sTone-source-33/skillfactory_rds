{
 "cells": [
  {
   "cell_type": "code",
   "execution_count": 1,
   "metadata": {
    "_cell_guid": "b1076dfc-b9ad-4769-8c92-a6c4dae69d19",
    "_uuid": "8f2839f25d086af736a60e9eeb907d3b93b6e0e5",
    "colab": {},
    "colab_type": "code",
    "id": "U2D2gTdJVp90"
   },
   "outputs": [],
   "source": [
    "import numpy as np\n",
    "import pandas as pd\n",
    "import seaborn as sns\n",
    "import matplotlib.pyplot as plt\n",
    "from collections import Counter\n",
    "from statistics import mean\n",
    "from datetime import datetime, timedelta"
   ]
  },
  {
   "cell_type": "code",
   "execution_count": 2,
   "metadata": {
    "_cell_guid": "79c7e3d0-c299-4dcb-8224-4455121ee9b0",
    "_uuid": "d629ff2d2480ee46fbb7e2d37f6b5fab8052498a",
    "colab": {},
    "colab_type": "code",
    "id": "oyGfxL3eVp9-"
   },
   "outputs": [
    {
     "data": {
      "text/html": [
       "<div>\n",
       "<style scoped>\n",
       "    .dataframe tbody tr th:only-of-type {\n",
       "        vertical-align: middle;\n",
       "    }\n",
       "\n",
       "    .dataframe tbody tr th {\n",
       "        vertical-align: top;\n",
       "    }\n",
       "\n",
       "    .dataframe thead th {\n",
       "        text-align: right;\n",
       "    }\n",
       "</style>\n",
       "<table border=\"1\" class=\"dataframe\">\n",
       "  <thead>\n",
       "    <tr style=\"text-align: right;\">\n",
       "      <th></th>\n",
       "      <th>imdb_id</th>\n",
       "      <th>budget</th>\n",
       "      <th>revenue</th>\n",
       "      <th>original_title</th>\n",
       "      <th>cast</th>\n",
       "      <th>director</th>\n",
       "      <th>tagline</th>\n",
       "      <th>overview</th>\n",
       "      <th>runtime</th>\n",
       "      <th>genres</th>\n",
       "      <th>production_companies</th>\n",
       "      <th>release_date</th>\n",
       "      <th>vote_average</th>\n",
       "      <th>release_year</th>\n",
       "    </tr>\n",
       "  </thead>\n",
       "  <tbody>\n",
       "    <tr>\n",
       "      <th>1330</th>\n",
       "      <td>tt0371606</td>\n",
       "      <td>150000000</td>\n",
       "      <td>314432665</td>\n",
       "      <td>Chicken Little</td>\n",
       "      <td>Zach Braff|Garry Marshall|Don Knotts|Patrick S...</td>\n",
       "      <td>Mark Dindal</td>\n",
       "      <td>When it comes to saving the world, it helps to...</td>\n",
       "      <td>When the sky really is falling and sanity has ...</td>\n",
       "      <td>81</td>\n",
       "      <td>Animation|Family|Comedy</td>\n",
       "      <td>Walt Disney Pictures|Walt Disney Feature Anima...</td>\n",
       "      <td>11/4/2005</td>\n",
       "      <td>5.6</td>\n",
       "      <td>2005</td>\n",
       "    </tr>\n",
       "    <tr>\n",
       "      <th>625</th>\n",
       "      <td>tt0942385</td>\n",
       "      <td>92000000</td>\n",
       "      <td>188072649</td>\n",
       "      <td>Tropic Thunder</td>\n",
       "      <td>Ben Stiller|Robert Downey Jr.|Jack Black|Jay B...</td>\n",
       "      <td>Ben Stiller</td>\n",
       "      <td>The movie they think they're making... isn't a...</td>\n",
       "      <td>Vietnam veteran 'Four Leaf' Tayback's memoir, ...</td>\n",
       "      <td>107</td>\n",
       "      <td>Action|Comedy</td>\n",
       "      <td>DreamWorks SKG|Goldcrest Pictures|Red Hour Fil...</td>\n",
       "      <td>8/9/2008</td>\n",
       "      <td>6.4</td>\n",
       "      <td>2008</td>\n",
       "    </tr>\n",
       "    <tr>\n",
       "      <th>1041</th>\n",
       "      <td>tt1142977</td>\n",
       "      <td>39000000</td>\n",
       "      <td>81491068</td>\n",
       "      <td>Frankenweenie</td>\n",
       "      <td>Charlie Tahan|Winona Ryder|Catherine O'Hara|Ma...</td>\n",
       "      <td>Tim Burton</td>\n",
       "      <td>The electrifying dog is back from beyond the g...</td>\n",
       "      <td>Young Victor conducts a science experiment to ...</td>\n",
       "      <td>87</td>\n",
       "      <td>Animation|Comedy|Family</td>\n",
       "      <td>Walt Disney Pictures|Tim Burton Animation Comp...</td>\n",
       "      <td>10/4/2012</td>\n",
       "      <td>6.5</td>\n",
       "      <td>2012</td>\n",
       "    </tr>\n",
       "    <tr>\n",
       "      <th>1754</th>\n",
       "      <td>tt0457433</td>\n",
       "      <td>60795000</td>\n",
       "      <td>73090611</td>\n",
       "      <td>Perfect Stranger</td>\n",
       "      <td>Halle Berry|Bruce Willis|Giovanni Ribisi|Richa...</td>\n",
       "      <td>James Foley</td>\n",
       "      <td>How Far Would You Go To Keep A Secret?</td>\n",
       "      <td>A journalist goes undercover to ferret out bus...</td>\n",
       "      <td>109</td>\n",
       "      <td>Crime|Drama|Mystery|Thriller</td>\n",
       "      <td>Columbia Pictures|Revolution Studios</td>\n",
       "      <td>4/12/2007</td>\n",
       "      <td>5.3</td>\n",
       "      <td>2007</td>\n",
       "    </tr>\n",
       "    <tr>\n",
       "      <th>491</th>\n",
       "      <td>tt1320239</td>\n",
       "      <td>10000000</td>\n",
       "      <td>4349187</td>\n",
       "      <td>Burke &amp; Hare</td>\n",
       "      <td>Simon Pegg|Andy Serkis|Isla Fisher|Tom Wilkins...</td>\n",
       "      <td>John Landis</td>\n",
       "      <td>No Job Too Small. No Body Too Big. No Question...</td>\n",
       "      <td>Two 19th-century opportunists (Simon Pegg, And...</td>\n",
       "      <td>91</td>\n",
       "      <td>Comedy|Thriller</td>\n",
       "      <td>Ealing Studios|Fragile Films|Quickfire Films|P...</td>\n",
       "      <td>10/29/2010</td>\n",
       "      <td>6.0</td>\n",
       "      <td>2010</td>\n",
       "    </tr>\n",
       "  </tbody>\n",
       "</table>\n",
       "</div>"
      ],
      "text/plain": [
       "        imdb_id     budget    revenue    original_title  \\\n",
       "1330  tt0371606  150000000  314432665    Chicken Little   \n",
       "625   tt0942385   92000000  188072649    Tropic Thunder   \n",
       "1041  tt1142977   39000000   81491068     Frankenweenie   \n",
       "1754  tt0457433   60795000   73090611  Perfect Stranger   \n",
       "491   tt1320239   10000000    4349187      Burke & Hare   \n",
       "\n",
       "                                                   cast     director  \\\n",
       "1330  Zach Braff|Garry Marshall|Don Knotts|Patrick S...  Mark Dindal   \n",
       "625   Ben Stiller|Robert Downey Jr.|Jack Black|Jay B...  Ben Stiller   \n",
       "1041  Charlie Tahan|Winona Ryder|Catherine O'Hara|Ma...   Tim Burton   \n",
       "1754  Halle Berry|Bruce Willis|Giovanni Ribisi|Richa...  James Foley   \n",
       "491   Simon Pegg|Andy Serkis|Isla Fisher|Tom Wilkins...  John Landis   \n",
       "\n",
       "                                                tagline  \\\n",
       "1330  When it comes to saving the world, it helps to...   \n",
       "625   The movie they think they're making... isn't a...   \n",
       "1041  The electrifying dog is back from beyond the g...   \n",
       "1754             How Far Would You Go To Keep A Secret?   \n",
       "491   No Job Too Small. No Body Too Big. No Question...   \n",
       "\n",
       "                                               overview  runtime  \\\n",
       "1330  When the sky really is falling and sanity has ...       81   \n",
       "625   Vietnam veteran 'Four Leaf' Tayback's memoir, ...      107   \n",
       "1041  Young Victor conducts a science experiment to ...       87   \n",
       "1754  A journalist goes undercover to ferret out bus...      109   \n",
       "491   Two 19th-century opportunists (Simon Pegg, And...       91   \n",
       "\n",
       "                            genres  \\\n",
       "1330       Animation|Family|Comedy   \n",
       "625                  Action|Comedy   \n",
       "1041       Animation|Comedy|Family   \n",
       "1754  Crime|Drama|Mystery|Thriller   \n",
       "491                Comedy|Thriller   \n",
       "\n",
       "                                   production_companies release_date  \\\n",
       "1330  Walt Disney Pictures|Walt Disney Feature Anima...    11/4/2005   \n",
       "625   DreamWorks SKG|Goldcrest Pictures|Red Hour Fil...     8/9/2008   \n",
       "1041  Walt Disney Pictures|Tim Burton Animation Comp...    10/4/2012   \n",
       "1754               Columbia Pictures|Revolution Studios    4/12/2007   \n",
       "491   Ealing Studios|Fragile Films|Quickfire Films|P...   10/29/2010   \n",
       "\n",
       "      vote_average  release_year  \n",
       "1330           5.6          2005  \n",
       "625            6.4          2008  \n",
       "1041           6.5          2012  \n",
       "1754           5.3          2007  \n",
       "491            6.0          2010  "
      ]
     },
     "execution_count": 2,
     "metadata": {},
     "output_type": "execute_result"
    }
   ],
   "source": [
    "# Загружаем данные датафрейма в переменную data\n",
    "data = pd.read_csv('movie_bd_v5.xls')\n",
    "data.sample(5)"
   ]
  },
  {
   "cell_type": "code",
   "execution_count": 3,
   "metadata": {
    "colab": {},
    "colab_type": "code",
    "id": "CoYUnagMVp-C"
   },
   "outputs": [
    {
     "data": {
      "text/html": [
       "<div>\n",
       "<style scoped>\n",
       "    .dataframe tbody tr th:only-of-type {\n",
       "        vertical-align: middle;\n",
       "    }\n",
       "\n",
       "    .dataframe tbody tr th {\n",
       "        vertical-align: top;\n",
       "    }\n",
       "\n",
       "    .dataframe thead th {\n",
       "        text-align: right;\n",
       "    }\n",
       "</style>\n",
       "<table border=\"1\" class=\"dataframe\">\n",
       "  <thead>\n",
       "    <tr style=\"text-align: right;\">\n",
       "      <th></th>\n",
       "      <th>budget</th>\n",
       "      <th>revenue</th>\n",
       "      <th>runtime</th>\n",
       "      <th>vote_average</th>\n",
       "      <th>release_year</th>\n",
       "    </tr>\n",
       "  </thead>\n",
       "  <tbody>\n",
       "    <tr>\n",
       "      <th>count</th>\n",
       "      <td>1.889000e+03</td>\n",
       "      <td>1.889000e+03</td>\n",
       "      <td>1889.000000</td>\n",
       "      <td>1889.000000</td>\n",
       "      <td>1889.000000</td>\n",
       "    </tr>\n",
       "    <tr>\n",
       "      <th>mean</th>\n",
       "      <td>5.431083e+07</td>\n",
       "      <td>1.553653e+08</td>\n",
       "      <td>109.658549</td>\n",
       "      <td>6.140762</td>\n",
       "      <td>2007.860773</td>\n",
       "    </tr>\n",
       "    <tr>\n",
       "      <th>std</th>\n",
       "      <td>4.858721e+07</td>\n",
       "      <td>2.146698e+08</td>\n",
       "      <td>18.017041</td>\n",
       "      <td>0.764763</td>\n",
       "      <td>4.468841</td>\n",
       "    </tr>\n",
       "    <tr>\n",
       "      <th>min</th>\n",
       "      <td>5.000000e+06</td>\n",
       "      <td>2.033165e+06</td>\n",
       "      <td>63.000000</td>\n",
       "      <td>3.300000</td>\n",
       "      <td>2000.000000</td>\n",
       "    </tr>\n",
       "    <tr>\n",
       "      <th>25%</th>\n",
       "      <td>2.000000e+07</td>\n",
       "      <td>3.456058e+07</td>\n",
       "      <td>97.000000</td>\n",
       "      <td>5.600000</td>\n",
       "      <td>2004.000000</td>\n",
       "    </tr>\n",
       "    <tr>\n",
       "      <th>50%</th>\n",
       "      <td>3.800000e+07</td>\n",
       "      <td>8.361541e+07</td>\n",
       "      <td>107.000000</td>\n",
       "      <td>6.100000</td>\n",
       "      <td>2008.000000</td>\n",
       "    </tr>\n",
       "    <tr>\n",
       "      <th>75%</th>\n",
       "      <td>7.200000e+07</td>\n",
       "      <td>1.782626e+08</td>\n",
       "      <td>120.000000</td>\n",
       "      <td>6.600000</td>\n",
       "      <td>2012.000000</td>\n",
       "    </tr>\n",
       "    <tr>\n",
       "      <th>max</th>\n",
       "      <td>3.800000e+08</td>\n",
       "      <td>2.781506e+09</td>\n",
       "      <td>214.000000</td>\n",
       "      <td>8.100000</td>\n",
       "      <td>2015.000000</td>\n",
       "    </tr>\n",
       "  </tbody>\n",
       "</table>\n",
       "</div>"
      ],
      "text/plain": [
       "             budget       revenue      runtime  vote_average  release_year\n",
       "count  1.889000e+03  1.889000e+03  1889.000000   1889.000000   1889.000000\n",
       "mean   5.431083e+07  1.553653e+08   109.658549      6.140762   2007.860773\n",
       "std    4.858721e+07  2.146698e+08    18.017041      0.764763      4.468841\n",
       "min    5.000000e+06  2.033165e+06    63.000000      3.300000   2000.000000\n",
       "25%    2.000000e+07  3.456058e+07    97.000000      5.600000   2004.000000\n",
       "50%    3.800000e+07  8.361541e+07   107.000000      6.100000   2008.000000\n",
       "75%    7.200000e+07  1.782626e+08   120.000000      6.600000   2012.000000\n",
       "max    3.800000e+08  2.781506e+09   214.000000      8.100000   2015.000000"
      ]
     },
     "execution_count": 3,
     "metadata": {},
     "output_type": "execute_result"
    }
   ],
   "source": [
    "data.describe()"
   ]
  },
  {
   "cell_type": "markdown",
   "metadata": {
    "colab_type": "text",
    "id": "DTIt7ezGVp-G"
   },
   "source": [
    "# Предобработка"
   ]
  },
  {
   "cell_type": "code",
   "execution_count": 4,
   "metadata": {
    "colab": {},
    "colab_type": "code",
    "id": "jNb40DwKVp-H"
   },
   "outputs": [],
   "source": [
    "answers = {} # создадим словарь для ответов\n",
    "\n",
    "# Рассчитываем прибыль фильма: (profit = revenue - budget)\n",
    "data['profit'] = data['revenue'] - data['budget']\n",
    "\n",
    "\n",
    "def string_conversion(row, dict_name):\n",
    "    \"\"\"Функция получает строку разбивает их по символу '|' \n",
    "    и добавляет в словарь dict_name при этом считая\n",
    "    количество повторений\"\"\"\n",
    "    \n",
    "    items = row.split('|')   # Разбиваем строку по символу\n",
    "    \n",
    "    for item in items:                # Заполняем словарь\n",
    "        if item in dict_name:\n",
    "            dict_name[item] += 1\n",
    "        else:\n",
    "            dict_name.setdefault(item, 1)\n",
    "            \n",
    "            \n",
    "def revenue_actors_count(row):\n",
    "    \"\"\"Функция получает в качестве значений строку.\n",
    "    Строка с актёрами разбивается по символу '|' и добавляется\n",
    "    в словарь в виде ключа, где значением является \n",
    "    сумма сборов\"\"\"\n",
    "    \n",
    "    revenue = row[0]\n",
    "    actors = row[1].split('|')\n",
    "    \n",
    "    for actor in actors:\n",
    "        if actor in revenue_actors:\n",
    "            revenue_actors[actor] += revenue\n",
    "        else:\n",
    "            revenue_actors.setdefault(actor, revenue)\n",
    "            \n",
    "            \n",
    "def original_title_letter(row):\n",
    "    \"\"\"Функция original_title_letter получает в качестве\n",
    "    значения название фильма и производителя, после чего\n",
    "    считает количество символов в названии и заполняет\n",
    "    словарь letter_count где в качестве ключа выступает\n",
    "    название компании, а в качестве значения количество\n",
    "    символов в названии фильма.\"\"\"\n",
    "    \n",
    "    original_title = len(row[0])\n",
    "    production_companies_list = row[1].split('|')\n",
    "    \n",
    "    for production_companie in production_companies_list:\n",
    "        if production_companie in letter_count:\n",
    "            letter_count[production_companie].append(original_title)\n",
    "        else:\n",
    "            letter_count.setdefault(production_companie, list([original_title]))\n",
    "            \n",
    "\n",
    "def dict_mean_count(dict_mean):\n",
    "    \"\"\"Функция dict_mean_count получает в качестве аргумента\n",
    "    словарь и для каждого ключа высчитывает среднее\n",
    "    его значения, после чего возвращает обновлённый словарь\"\"\"\n",
    "    \n",
    "    for key, value in dict_mean.items():\n",
    "        dict_mean[key] = mean(value)\n",
    "    return dict_mean\n",
    "\n",
    "\n",
    "def number_of_words(row):\n",
    "    \"\"\"Функция number_of_words получает в качестве\n",
    "    значения описание фильма и производителя, после чего\n",
    "    считает количество слов в описании и заполняет\n",
    "    словарь word_count где в качестве ключа выступает\n",
    "    название компании, а в качестве значения количество\n",
    "    слов в описании фильма.\"\"\"\n",
    "    \n",
    "    overview = len(row[0].split(' '))\n",
    "    production_companies_list = row[1].split('|')\n",
    "    \n",
    "    for production_companie in production_companies_list:\n",
    "        if production_companie in word_count:\n",
    "            word_count[production_companie].append(overview)\n",
    "        else:\n",
    "            word_count.setdefault(production_companie, list([overview]))\n",
    "            \n",
    "            \n",
    "def actor_duets_count(names):\n",
    "    \"\"\"Функция actor_duets_count получает в качестве\n",
    "    значения имена актёров и формирует из них пары для\n",
    "    добавления в лист actor_duets_list\"\"\"\n",
    "    \n",
    "    name_number = 0\n",
    "    next_name_number = 1\n",
    "    names = names.split('|')\n",
    "    names.sort()\n",
    "    \n",
    "    while name_number < len(names)-1:\n",
    "        actor_duets_list.append(names[name_number] + ' & ' + names[next_name_number])\n",
    "        next_name_number += 1\n",
    "        \n",
    "        if next_name_number == len(names):\n",
    "            name_number += 1\n",
    "            next_name_number = name_number + 1"
   ]
  },
  {
   "cell_type": "markdown",
   "metadata": {
    "colab_type": "text",
    "id": "YxZaH-nPVp-L"
   },
   "source": [
    "# 1. У какого фильма из списка самый большой бюджет?"
   ]
  },
  {
   "cell_type": "code",
   "execution_count": 5,
   "metadata": {
    "colab": {},
    "colab_type": "code",
    "id": "uVnXAY5RVp-O"
   },
   "outputs": [
    {
     "data": {
      "text/plain": [
       "'723, Pirates of the Caribbean: On Stranger Tides (tt1298650)'"
      ]
     },
     "execution_count": 5,
     "metadata": {},
     "output_type": "execute_result"
    }
   ],
   "source": [
    "# выводим фильм с самым большим бюджетом\n",
    "data[data['budget'] == data['budget'].max()]\n",
    "\n",
    "# Записываем результат в словарь с ответами\n",
    "answers['1'] = '723, Pirates of the Caribbean: On Stranger Tides (tt1298650)'\n",
    "answers['1'] # +"
   ]
  },
  {
   "cell_type": "markdown",
   "metadata": {
    "colab_type": "text",
    "id": "FNRbbI3vVp-c"
   },
   "source": [
    "# 2. Какой из фильмов самый длительный (в минутах)?"
   ]
  },
  {
   "cell_type": "code",
   "execution_count": 6,
   "metadata": {
    "colab": {},
    "colab_type": "code",
    "id": "vHAoEXNTVp-d"
   },
   "outputs": [
    {
     "data": {
      "text/plain": [
       "'1157, Gods and Generals (tt0279111)'"
      ]
     },
     "execution_count": 6,
     "metadata": {},
     "output_type": "execute_result"
    }
   ],
   "source": [
    "# выводим самый длиный фильм в датафрейме\n",
    "data[data['runtime'] == data['runtime'].max()]\n",
    "\n",
    "# Записываем результат в словарь с ответами\n",
    "answers['2'] = '1157, Gods and Generals (tt0279111)'\n",
    "answers['2'] # +"
   ]
  },
  {
   "cell_type": "markdown",
   "metadata": {
    "colab_type": "text",
    "id": "bapLlpW8Vp-k"
   },
   "source": [
    "# 3. Какой из фильмов самый короткий (в минутах)?\n",
    "\n",
    "\n",
    "\n"
   ]
  },
  {
   "cell_type": "code",
   "execution_count": 7,
   "metadata": {
    "colab": {},
    "colab_type": "code",
    "id": "YBxaSHuAVp-l"
   },
   "outputs": [
    {
     "data": {
      "text/plain": [
       "'768, Winnie the Pooh (tt1449283)'"
      ]
     },
     "execution_count": 7,
     "metadata": {},
     "output_type": "execute_result"
    }
   ],
   "source": [
    "# выводим самый короткий фильм в датафрейме\n",
    "data[data['runtime'] == data['runtime'].min()]\n",
    "\n",
    "# Записываем результат в словарь с ответами\n",
    "answers['3'] = '768, Winnie the Pooh (tt1449283)'\n",
    "answers['3'] # +"
   ]
  },
  {
   "cell_type": "markdown",
   "metadata": {
    "colab_type": "text",
    "id": "TfQbxbfNVp-p"
   },
   "source": [
    "# 4. Какова средняя длительность фильмов?\n"
   ]
  },
  {
   "cell_type": "code",
   "execution_count": 8,
   "metadata": {
    "colab": {},
    "colab_type": "code",
    "id": "5K6dKZYVVp-q"
   },
   "outputs": [
    {
     "data": {
      "text/plain": [
       "110"
      ]
     },
     "execution_count": 8,
     "metadata": {},
     "output_type": "execute_result"
    }
   ],
   "source": [
    "# Расчитываем среднюю длительность фильмов\n",
    "mean_time_films = round(data['runtime'].mean())\n",
    "\n",
    "# Записываем результат в словарь с ответами\n",
    "answers['4'] = mean_time_films\n",
    "answers['4'] # +"
   ]
  },
  {
   "cell_type": "markdown",
   "metadata": {
    "colab_type": "text",
    "id": "r5TvbnT_Vp-u"
   },
   "source": [
    "# 5. Каково медианное значение длительности фильмов? "
   ]
  },
  {
   "cell_type": "code",
   "execution_count": 9,
   "metadata": {
    "colab": {},
    "colab_type": "code",
    "id": "iBROplKnVp-v"
   },
   "outputs": [
    {
     "data": {
      "text/plain": [
       "107.0"
      ]
     },
     "execution_count": 9,
     "metadata": {},
     "output_type": "execute_result"
    }
   ],
   "source": [
    "# Расчитываем медиану фильмов\n",
    "median_films = data['runtime'].median()\n",
    "\n",
    "# Записываем результат в словарь с ответами\n",
    "answers['5'] = median_films\n",
    "answers['5'] # +"
   ]
  },
  {
   "cell_type": "markdown",
   "metadata": {
    "colab_type": "text",
    "id": "39P-deDSVp-y"
   },
   "source": [
    "# 6. Какой самый прибыльный фильм?\n",
    "#### Внимание! Здесь и далее под «прибылью» или «убытками» понимается разность между сборами и бюджетом фильма. (прибыль = сборы - бюджет) в нашем датасете это будет (profit = revenue - budget) "
   ]
  },
  {
   "cell_type": "code",
   "execution_count": 10,
   "metadata": {
    "colab": {},
    "colab_type": "code",
    "id": "UYZh4T9WVp-y"
   },
   "outputs": [
    {
     "data": {
      "text/plain": [
       "'239, Avatar (tt0499549)'"
      ]
     },
     "execution_count": 10,
     "metadata": {},
     "output_type": "execute_result"
    }
   ],
   "source": [
    "# Отфильтровываем самый прибыльный фильм\n",
    "data[data['profit'] == data['profit'].max()]\n",
    "\n",
    "# Записываем результат в словарь с ответами\n",
    "answers['6'] = '239, Avatar (tt0499549)'\n",
    "answers['6'] # +"
   ]
  },
  {
   "cell_type": "markdown",
   "metadata": {
    "colab_type": "text",
    "id": "M99JmIX4Vp-2"
   },
   "source": [
    "# 7. Какой фильм самый убыточный? "
   ]
  },
  {
   "cell_type": "code",
   "execution_count": 11,
   "metadata": {
    "colab": {},
    "colab_type": "code",
    "id": "w-D2m4XPVp-3"
   },
   "outputs": [
    {
     "data": {
      "text/plain": [
       "'1245, The Lone Range (tt1210819)'"
      ]
     },
     "execution_count": 11,
     "metadata": {},
     "output_type": "execute_result"
    }
   ],
   "source": [
    "# Отфильтровываем самый убыточный фильм\n",
    "data[data['profit'] == data['profit'].min()]\n",
    "\n",
    "# Записываем результат в словарь с ответами\n",
    "answers['7'] = '1245, The Lone Range (tt1210819)'\n",
    "answers['7'] # +"
   ]
  },
  {
   "cell_type": "markdown",
   "metadata": {
    "colab_type": "text",
    "id": "wEOM5ERVVp-6"
   },
   "source": [
    "# 8. У скольких фильмов из датасета объем сборов оказался выше бюджета?"
   ]
  },
  {
   "cell_type": "code",
   "execution_count": 12,
   "metadata": {
    "colab": {},
    "colab_type": "code",
    "id": "y00_7HD6Vp-7"
   },
   "outputs": [
    {
     "data": {
      "text/plain": [
       "1478"
      ]
     },
     "execution_count": 12,
     "metadata": {},
     "output_type": "execute_result"
    }
   ],
   "source": [
    "# Отфильтровываем фильмы где объём сборов оказался выше бюджета\n",
    "count_films = len(data.query('revenue > budget'))\n",
    "\n",
    "# Записываем результат в словарь с ответами\n",
    "answers['8'] = count_films\n",
    "answers['8'] # +"
   ]
  },
  {
   "cell_type": "markdown",
   "metadata": {
    "colab_type": "text",
    "id": "xhpspA9KVp_A"
   },
   "source": [
    "# 9. Какой фильм оказался самым кассовым в 2008 году?"
   ]
  },
  {
   "cell_type": "code",
   "execution_count": 13,
   "metadata": {
    "colab": {},
    "colab_type": "code",
    "id": "MoUyQr9RVp_B"
   },
   "outputs": [
    {
     "data": {
      "text/plain": [
       "'599, The Dark Knight (tt0468569)'"
      ]
     },
     "execution_count": 13,
     "metadata": {},
     "output_type": "execute_result"
    }
   ],
   "source": [
    "# Отфильтровываем самые кассовые фильмы 2008 года\n",
    "all_films_2008 = data.query('release_year == 2008')\n",
    "all_films_2008[all_films_2008['revenue'] == all_films_2008['revenue'].max()]\n",
    "\n",
    "# Записываем результат в словарь с ответами\n",
    "answers['9'] = '599, The Dark Knight (tt0468569)'\n",
    "answers['9'] # +"
   ]
  },
  {
   "cell_type": "markdown",
   "metadata": {
    "colab_type": "text",
    "id": "Zi4hDKidVp_F"
   },
   "source": [
    "# 10. Самый убыточный фильм за период с 2012 по 2014 г. (включительно)?\n"
   ]
  },
  {
   "cell_type": "code",
   "execution_count": 14,
   "metadata": {
    "colab": {},
    "colab_type": "code",
    "id": "XqyRmufJVp_F"
   },
   "outputs": [
    {
     "data": {
      "text/plain": [
       "'1245, The Lone Ranger (tt1210819)'"
      ]
     },
     "execution_count": 14,
     "metadata": {},
     "output_type": "execute_result"
    }
   ],
   "source": [
    "# Отфильтровываем самые убыточные фильмы 2012 - 2014 года. \n",
    "all_filams_12_14 = data.query('2012 <= release_year <= 2014')\n",
    "all_filams_12_14[all_filams_12_14['profit'] == all_filams_12_14['profit'].min()]\n",
    "\n",
    "# Записываем результат в словарь с ответами\n",
    "answers['10'] = '1245, The Lone Ranger (tt1210819)'\n",
    "answers['10'] # +"
   ]
  },
  {
   "cell_type": "markdown",
   "metadata": {
    "colab_type": "text",
    "id": "EA7Sa9dkVp_I"
   },
   "source": [
    "# 11. Какого жанра фильмов больше всего?"
   ]
  },
  {
   "cell_type": "markdown",
   "metadata": {},
   "source": [
    "ВАРИАНТ 1"
   ]
  },
  {
   "cell_type": "code",
   "execution_count": 15,
   "metadata": {
    "colab": {},
    "colab_type": "code",
    "id": "zsJAwJ8QVp_J"
   },
   "outputs": [
    {
     "data": {
      "text/plain": [
       "'Drama'"
      ]
     },
     "execution_count": 15,
     "metadata": {},
     "output_type": "execute_result"
    }
   ],
   "source": [
    "# Создаём пустой словарь для хранения жанрав фильмов\n",
    "genres_films = dict()\n",
    "           \n",
    "# Передаём данные и словарь в функцию string_conversion для заполения \n",
    "# словаря genres_films и подсчёта вхождений жанров фильмов в датасет\n",
    "data['genres'].apply(lambda row: string_conversion(row, genres_films))\n",
    "\n",
    "# Преобразуем словарь в финальный датасет\n",
    "final_series = pd.Series(genres_films)\n",
    "final_series.sort_values(ascending=False).head(1)\n",
    "\n",
    "# Записываем результат в словарь с ответами\n",
    "answers['11'] = final_series.sort_values(ascending=False).index[0]\n",
    "answers['11'] # +"
   ]
  },
  {
   "cell_type": "markdown",
   "metadata": {
    "colab_type": "text",
    "id": "Ax6g2C8SVp_M"
   },
   "source": [
    "ВАРИАНТ 2"
   ]
  },
  {
   "cell_type": "code",
   "execution_count": 16,
   "metadata": {
    "colab": {},
    "colab_type": "code",
    "id": "otO3SbrSVp_N"
   },
   "outputs": [
    {
     "data": {
      "text/plain": [
       "'Drama'"
      ]
     },
     "execution_count": 16,
     "metadata": {},
     "output_type": "execute_result"
    }
   ],
   "source": [
    "# Создаём пустой лист для хранения жанрав фильмов\n",
    "genres_films = list()\n",
    "\n",
    "# Передаём данные в lambda функцию для преобразования строки\n",
    "data['genres'].apply(lambda row: [genres_films.append(genre) for genre in row.split('|')])\n",
    "\n",
    "# Считаем повторяющиеся значения в листе и \n",
    "# преобразуем лист в словарь\n",
    "# На основе словаря создаём датасет\n",
    "genres_films = pd.Series(Counter(genres_films))\n",
    "\n",
    "# Фильтуем по убыванию\n",
    "genres_films.sort_values(ascending=False).head(1)\n",
    "\n",
    "# Записываем результат в словарь с ответами\n",
    "answers['11'] = final_series.sort_values(ascending=False).index[0]\n",
    "answers['11'] # +"
   ]
  },
  {
   "cell_type": "markdown",
   "metadata": {
    "colab_type": "text",
    "id": "T9_bPWpkVp_Q"
   },
   "source": [
    "# 12. Фильмы какого жанра чаще всего становятся прибыльными? "
   ]
  },
  {
   "cell_type": "markdown",
   "metadata": {},
   "source": [
    "ВАРИАНТ 1"
   ]
  },
  {
   "cell_type": "code",
   "execution_count": 17,
   "metadata": {},
   "outputs": [
    {
     "data": {
      "text/plain": [
       "'Drama'"
      ]
     },
     "execution_count": 17,
     "metadata": {},
     "output_type": "execute_result"
    }
   ],
   "source": [
    "# Создаём пустой словарь для хранения жанрав фильмов\n",
    "genres_films = dict()\n",
    "\n",
    "# Отфильтровываем фильмы прибыль которых больше 0\n",
    "profit_films = data.query('profit > 0')\n",
    "\n",
    "# Передаём данные и словарь в функцию string_conversion для заполения \n",
    "# словаря genres_films и подсчёта вхождений жанров фильмов в датасет\n",
    "profit_films['genres'].apply(lambda row: string_conversion(row, genres_films))\n",
    "\n",
    "# Преобразуем словарь в датасет\n",
    "genres_films = pd.Series(genres_films)\n",
    "\n",
    "# Фильтуем по убыванию\n",
    "genres_films.sort_values(ascending=False).head(1)\n",
    "\n",
    "# Записываем результат в словарь с ответами\n",
    "answers['12'] = final_series.sort_values(ascending=False).index[0]\n",
    "answers['12'] # +"
   ]
  },
  {
   "cell_type": "markdown",
   "metadata": {},
   "source": [
    "ВАРИАНТ 2"
   ]
  },
  {
   "cell_type": "code",
   "execution_count": 18,
   "metadata": {
    "colab": {},
    "colab_type": "code",
    "id": "Tmt8MaK1Vp_R"
   },
   "outputs": [
    {
     "data": {
      "text/plain": [
       "'Drama'"
      ]
     },
     "execution_count": 18,
     "metadata": {},
     "output_type": "execute_result"
    }
   ],
   "source": [
    "# Создаём пустой лист для хранения жанрав фильмов\n",
    "genres_films = list()\n",
    "\n",
    "# Отфильтровываем фильмы прибыль которых больше 0\n",
    "profit_films = data.query('profit > 0')\n",
    "\n",
    "# Передаём данные в lambda функцию для преобразования строки\n",
    "profit_films['genres'].apply(lambda row: [genres_films.append(genre) for genre in row.split('|')])\n",
    "\n",
    "# Считаем повторяющиеся значения в листе и \n",
    "# преобразуем лист в словарь\n",
    "genres_films = pd.Series(Counter(genres_films))\n",
    "\n",
    "# Фильтуем по убыванию\n",
    "genres_films.sort_values(ascending=False).head(1)\n",
    "\n",
    "# Записываем результат в словарь с ответами\n",
    "answers['12'] = final_series.sort_values(ascending=False).index[0]\n",
    "answers['12'] # +"
   ]
  },
  {
   "cell_type": "markdown",
   "metadata": {
    "colab_type": "text",
    "id": "0F23bgsDVp_U"
   },
   "source": [
    "# 13. У какого режиссера самые большие суммарные кассовые сбооры?"
   ]
  },
  {
   "cell_type": "code",
   "execution_count": 19,
   "metadata": {
    "colab": {},
    "colab_type": "code",
    "id": "K6Z3J8ygVp_X"
   },
   "outputs": [
    {
     "data": {
      "text/plain": [
       "'Peter Jackson'"
      ]
     },
     "execution_count": 19,
     "metadata": {},
     "output_type": "execute_result"
    }
   ],
   "source": [
    "# Группируем датасет по режиссерам и суммируем кассовые сборы\n",
    "data.groupby('director')['revenue'].sum().sort_values(ascending=False).head(1)\n",
    "\n",
    "# Записываем результат в словарь с ответами\n",
    "answers['13'] = data.groupby('director')['revenue'].sum().sort_values(ascending=False).index[0]\n",
    "answers['13'] # +"
   ]
  },
  {
   "cell_type": "markdown",
   "metadata": {
    "colab_type": "text",
    "id": "PsYC9FgRVp_a"
   },
   "source": [
    "# 14. Какой режисер снял больше всего фильмов в стиле Action?"
   ]
  },
  {
   "cell_type": "markdown",
   "metadata": {},
   "source": [
    "ВАРИАНТ 1"
   ]
  },
  {
   "cell_type": "code",
   "execution_count": 20,
   "metadata": {},
   "outputs": [
    {
     "data": {
      "text/plain": [
       "'Robert Rodriguez'"
      ]
     },
     "execution_count": 20,
     "metadata": {},
     "output_type": "execute_result"
    }
   ],
   "source": [
    "# Создаём пустой ckjdfhm для хранения имён режисёров\n",
    "action_director = dict()\n",
    "\n",
    "# Фильтруем фильмы в жанрах которых присутствует Action\n",
    "action_films = data[data['genres'].str.contains('Action')]\n",
    "\n",
    "# Передаём данные и словарь в функцию string_conversion для заполения \n",
    "# словаря action_director и подсчёта вхождений жанров фильмов в датасет\n",
    "action_films['director'].apply(lambda row: string_conversion(row, action_director))\n",
    "\n",
    "# Преобразуем словарь в датасет\n",
    "director_films = pd.Series(action_director)\n",
    "\n",
    "# Фильтуем по убыванию\n",
    "director_films.sort_values(ascending=False).head(1)\n",
    "\n",
    "# Записываем результат в словарь с ответами\n",
    "answers['14'] = director_films.sort_values(ascending=False).index[0]\n",
    "answers['14'] # +"
   ]
  },
  {
   "cell_type": "markdown",
   "metadata": {},
   "source": [
    "ВАРИАНТ 2"
   ]
  },
  {
   "cell_type": "code",
   "execution_count": 21,
   "metadata": {
    "colab": {},
    "colab_type": "code",
    "id": "wd2M-wHeVp_b"
   },
   "outputs": [
    {
     "data": {
      "text/plain": [
       "'Robert Rodriguez'"
      ]
     },
     "execution_count": 21,
     "metadata": {},
     "output_type": "execute_result"
    }
   ],
   "source": [
    "# Создаём пустой лист для хранения имён режисёров\n",
    "action_director = list()\n",
    "\n",
    "# Фильтруем фильмы в жанрах которых присутствует Action\n",
    "action_films = data[data['genres'].str.contains('Action')]\n",
    "\n",
    "# Передаём данные в lambda функцию для преобразования строки\n",
    "action_films['director'].apply(lambda directors: [action_director.append(director) for director in directors.split('|')])\n",
    "\n",
    "# Считаем повторяющиеся значения в листе и \n",
    "# преобразуем лист в датасет\n",
    "director_films = pd.Series(Counter(action_director))\n",
    "\n",
    "# Фильтуем по убыванию\n",
    "director_films.sort_values(ascending=False).head(1)\n",
    "\n",
    "# Записываем результат в словарь с ответами\n",
    "answers['14'] = director_films.sort_values(ascending=False).index[0]\n",
    "answers['14'] # +"
   ]
  },
  {
   "cell_type": "markdown",
   "metadata": {
    "colab_type": "text",
    "id": "PQ0KciD7Vp_f"
   },
   "source": [
    "# 15. Фильмы с каким актером принесли самые высокие кассовые сборы в 2012 году? "
   ]
  },
  {
   "cell_type": "code",
   "execution_count": 22,
   "metadata": {
    "colab": {},
    "colab_type": "code",
    "id": "aga62oeKVp_g"
   },
   "outputs": [
    {
     "data": {
      "text/plain": [
       "'Chris Hemsworth'"
      ]
     },
     "execution_count": 22,
     "metadata": {},
     "output_type": "execute_result"
    }
   ],
   "source": [
    "# Создаём пустой cловарь для хранения имён режисёров\n",
    "revenue_actors = dict()\n",
    "\n",
    "# Отфильтровываем фильмы выпущенные в 2012 году\n",
    "films_2012 = data.query('release_year == 2012')\n",
    "\n",
    "# Передаём данные и словарь в функцию revenue_actors_count для заполения \n",
    "# словаря revenue_actors и подсчитывае самые высокие коссовые сборы\n",
    "films_2012[['revenue', 'cast']].apply(lambda row: revenue_actors_count(row), axis=1)\n",
    "\n",
    "# Преобразуем словарь в датасет\n",
    "final_series = pd.Series(revenue_actors)\n",
    "\n",
    "# Фильтуем по убыванию\n",
    "final_series.sort_values(ascending=False).head(1)\n",
    "\n",
    "# Записываем результат в словарь с ответами\n",
    "answers['15'] = final_series.sort_values(ascending=False).index[0]\n",
    "answers['15'] # +"
   ]
  },
  {
   "cell_type": "markdown",
   "metadata": {
    "colab_type": "text",
    "id": "mWHyyL7QVp_j"
   },
   "source": [
    "# 16. Какой актер снялся в большем количестве высокобюджетных фильмов?"
   ]
  },
  {
   "cell_type": "code",
   "execution_count": 23,
   "metadata": {
    "colab": {},
    "colab_type": "code",
    "id": "qQtmHKTFVp_k"
   },
   "outputs": [
    {
     "data": {
      "text/plain": [
       "'Matt Damon'"
      ]
     },
     "execution_count": 23,
     "metadata": {},
     "output_type": "execute_result"
    }
   ],
   "source": [
    "# Создаём пустой лист для хранения имён актёров\n",
    "actors_list = list()\n",
    "\n",
    "# Отфильтровываем высокобюджетные фильмы\n",
    "top_budget_films = data[data['budget'] > data['budget'].mean()]\n",
    "\n",
    "# Передаём данные в lambda функцию для преобразования строки\n",
    "top_budget_films['cast'].apply(lambda row: [actors_list.append(actor) for actor in row.split('|')])\n",
    "\n",
    "# Считаем повторяющиеся значения в листе и \n",
    "# преобразуем лист в датасет\n",
    "final_series = pd.Series(Counter(actors_list))\n",
    "\n",
    "# Фильтуем по убыванию\n",
    "final_series.sort_values(ascending=False).head(1)\n",
    "\n",
    "# Записываем результат в словарь с ответами\n",
    "answers['16'] = final_series.sort_values(ascending=False).index[0]\n",
    "answers['16'] # +"
   ]
  },
  {
   "cell_type": "markdown",
   "metadata": {
    "colab_type": "text",
    "id": "NIh6AaW5Vp_n"
   },
   "source": [
    "# 17. В фильмах какого жанра больше всего снимался Nicolas Cage? "
   ]
  },
  {
   "cell_type": "code",
   "execution_count": 24,
   "metadata": {
    "colab": {},
    "colab_type": "code",
    "id": "H74SJDIBVp_n"
   },
   "outputs": [
    {
     "data": {
      "text/plain": [
       "'Action'"
      ]
     },
     "execution_count": 24,
     "metadata": {},
     "output_type": "execute_result"
    }
   ],
   "source": [
    "# Создаём пустой лист для хранения жанров\n",
    "genres_list = list()\n",
    "\n",
    "# Отфильтровываем фильмы где снимался Nicolas Cage\n",
    "nc_films = data[data['cast'].str.contains('Nicolas Cage')]\n",
    "\n",
    "# Передаём данные в lambda функцию для преобразования строки\n",
    "nc_films['genres'].apply(lambda row: [genres_list.append(genres) for genres in row.split('|')])\n",
    "\n",
    "# Считаем повторяющиеся значения в листе и \n",
    "# преобразуем лист в датасет\n",
    "final_series = pd.Series(Counter(genres_list))\n",
    "\n",
    "# Фильтуем по убыванию\n",
    "final_series.sort_values(ascending=False).head(1)\n",
    "\n",
    "# Записываем результат в словарь с ответами\n",
    "answers['17'] = final_series.sort_values(ascending=False).index[0]\n",
    "answers['17'] # +"
   ]
  },
  {
   "cell_type": "markdown",
   "metadata": {
    "colab_type": "text",
    "id": "RqOmPRfWVp_q"
   },
   "source": [
    "# 18. Самый убыточный фильм от Paramount Pictures"
   ]
  },
  {
   "cell_type": "code",
   "execution_count": 25,
   "metadata": {
    "colab": {},
    "colab_type": "code",
    "id": "9E_B0Y96Vp_r"
   },
   "outputs": [
    {
     "data": {
      "text/plain": [
       "'925, K-19: The Widowmaker (tt0267626)'"
      ]
     },
     "execution_count": 25,
     "metadata": {},
     "output_type": "execute_result"
    }
   ],
   "source": [
    "# Отфильтровываем фильмы Paramount Pictures\n",
    "pp_films = data[data['production_companies'].str.contains('Paramount Pictures')]\n",
    "\n",
    "# Ищем самый убыточный фильм\n",
    "pp_films[pp_films['profit'] == pp_films['profit'].min()]\n",
    "\n",
    "# Записываем результат в словарь с ответами\n",
    "answers['18'] = '925, K-19: The Widowmaker (tt0267626)'\n",
    "answers['18'] # +"
   ]
  },
  {
   "cell_type": "markdown",
   "metadata": {
    "colab_type": "text",
    "id": "vS8Ur6ddVp_u"
   },
   "source": [
    "# 19. Какой год стал самым успешным по суммарным кассовым сборам?"
   ]
  },
  {
   "cell_type": "code",
   "execution_count": 26,
   "metadata": {
    "colab": {},
    "colab_type": "code",
    "id": "Dnbt4GdIVp_v"
   },
   "outputs": [
    {
     "data": {
      "text/plain": [
       "2015"
      ]
     },
     "execution_count": 26,
     "metadata": {},
     "output_type": "execute_result"
    }
   ],
   "source": [
    "# Группируем датасет по годам и суммируем по кассовым сборам\n",
    "data.groupby('release_year')['revenue'].sum().sort_values(ascending=False).head(1)\n",
    "\n",
    "# Записываем результат в словарь с ответами\n",
    "answers['19'] = 2015\n",
    "answers['19'] # +"
   ]
  },
  {
   "cell_type": "markdown",
   "metadata": {
    "colab_type": "text",
    "id": "JAzJh4QAVp_z"
   },
   "source": [
    "# 20. Какой самый прибыльный год для студии Warner Bros?"
   ]
  },
  {
   "cell_type": "code",
   "execution_count": 27,
   "metadata": {
    "colab": {},
    "colab_type": "code",
    "id": "wgVu02DEVp_0"
   },
   "outputs": [
    {
     "data": {
      "text/plain": [
       "2014"
      ]
     },
     "execution_count": 27,
     "metadata": {},
     "output_type": "execute_result"
    }
   ],
   "source": [
    "# Отфильтровываем фильмы Warner Bros\n",
    "wb_films = data[data['production_companies'].str.contains('Warner Bros')]\n",
    "\n",
    "# Группируем датасет по годам и суммируем по прибыли\n",
    "wb_films.groupby('release_year')['profit'].sum().sort_values(ascending=False).head(1)\n",
    "\n",
    "# Записываем результат в словарь с ответами\n",
    "answers['20'] = 2014\n",
    "answers['20'] # +"
   ]
  },
  {
   "cell_type": "markdown",
   "metadata": {
    "colab_type": "text",
    "id": "8Im1S2HRVp_4"
   },
   "source": [
    "# 21. В каком месяце за все годы суммарно вышло больше всего фильмов?"
   ]
  },
  {
   "cell_type": "code",
   "execution_count": 28,
   "metadata": {
    "colab": {},
    "colab_type": "code",
    "id": "lev6TH7gVp_4"
   },
   "outputs": [
    {
     "data": {
      "text/plain": [
       "'Сентябрь'"
      ]
     },
     "execution_count": 28,
     "metadata": {},
     "output_type": "execute_result"
    }
   ],
   "source": [
    "# Создаём столбец month состоящий из месяцев\n",
    "data['month'] = data['release_date'].apply(lambda row: int(row.split('/')[0]))\n",
    "\n",
    "# групперуем по месяцам и подсчитываем значения\n",
    "data.groupby('month')['imdb_id'].count().sort_values(ascending=False).head(1)\n",
    "\n",
    "# Записываем результат в словарь с ответами\n",
    "answers['21'] = 'Сентябрь'\n",
    "answers['21'] # +"
   ]
  },
  {
   "cell_type": "markdown",
   "metadata": {
    "colab_type": "text",
    "id": "uAJsZ_NeVp_7"
   },
   "source": [
    "# 22. Сколько суммарно вышло фильмов летом? (за июнь, июль, август)"
   ]
  },
  {
   "cell_type": "code",
   "execution_count": 29,
   "metadata": {
    "colab": {},
    "colab_type": "code",
    "id": "Aa-hEREoVp_8"
   },
   "outputs": [
    {
     "data": {
      "text/plain": [
       "450"
      ]
     },
     "execution_count": 29,
     "metadata": {},
     "output_type": "execute_result"
    }
   ],
   "source": [
    "# Фильтруем столбец month летними мясецами\n",
    "summer_films = data.query('month in [6, 7, 8]')\n",
    "\n",
    "# Подсчитываем количество фильмов\n",
    "answers['22'] = len(summer_films)\n",
    "answers['22'] # +"
   ]
  },
  {
   "cell_type": "markdown",
   "metadata": {
    "colab_type": "text",
    "id": "G94ppOY1VqAA"
   },
   "source": [
    "# 23. Для какого режиссера зима – самое продуктивное время года? "
   ]
  },
  {
   "cell_type": "code",
   "execution_count": 30,
   "metadata": {
    "colab": {},
    "colab_type": "code",
    "id": "RhNTsamuVqAB"
   },
   "outputs": [
    {
     "data": {
      "text/plain": [
       "'Peter Jackson'"
      ]
     },
     "execution_count": 30,
     "metadata": {},
     "output_type": "execute_result"
    }
   ],
   "source": [
    "# Создаём пустой лист для хранения имён режиссёров\n",
    "director_list = list()\n",
    "\n",
    "# Фильтруем столбец month Зимним мясецами\n",
    "winter_films = data.query('month in [12, 1, 2]')\n",
    "\n",
    "# Передаём данные в lambda функцию для преобразования строки\n",
    "winter_films['director'].apply(lambda row: [director_list.append(director) for director in row.split('|')])\n",
    "\n",
    "# Считаем повторяющиеся значения в листе и \n",
    "# преобразуем лист в датасет\n",
    "final_series = pd.Series(Counter(director_list))\n",
    "\n",
    "# Фильтуем по убыванию\n",
    "final_series.sort_values(ascending=False).head(1)\n",
    "\n",
    "# Записываем результат в словарь с ответами\n",
    "answers['23'] = final_series.sort_values(ascending=False).index[0]\n",
    "answers['23'] # +"
   ]
  },
  {
   "cell_type": "markdown",
   "metadata": {
    "colab_type": "text",
    "id": "RBo0JVjVVqAF"
   },
   "source": [
    "# 24. Какая студия дает самые длинные названия своим фильмам по количеству символов?"
   ]
  },
  {
   "cell_type": "code",
   "execution_count": 31,
   "metadata": {
    "colab": {},
    "colab_type": "code",
    "id": "QRGS8L0iVqAG"
   },
   "outputs": [
    {
     "data": {
      "text/plain": [
       "'Four By Two Productions'"
      ]
     },
     "execution_count": 31,
     "metadata": {},
     "output_type": "execute_result"
    }
   ],
   "source": [
    "# Создаём пустой словарь для хранения имён режиссёров\n",
    "letter_count = dict()\n",
    "\n",
    "# Передаём данные и словарь в функцию original_title_letter для заполения \n",
    "# словаря letter_count и подсчитываем количество символов с строке\n",
    "data[['original_title', 'production_companies']].apply(lambda row: original_title_letter(row), axis=1)\n",
    "\n",
    "# Передаём словарь в функцию dict_mean_count и преобразуем полученный\n",
    "# словарь в датасет\n",
    "final_series = pd.Series(dict_mean_count(letter_count))\n",
    "\n",
    "# Фильтуем по убыванию\n",
    "final_series.sort_values(ascending=False).head(1)\n",
    "\n",
    "# Записываем результат в словарь с ответами\n",
    "answers['24'] = final_series.sort_values(ascending=False).index[0]\n",
    "answers['24'] # +"
   ]
  },
  {
   "cell_type": "markdown",
   "metadata": {
    "colab_type": "text",
    "id": "9G0hbvR7VqAK"
   },
   "source": [
    "# 25. Описание фильмов какой студии в среднем самые длинные по количеству слов?"
   ]
  },
  {
   "cell_type": "code",
   "execution_count": 32,
   "metadata": {
    "colab": {},
    "colab_type": "code",
    "id": "Ge2GsLNxVqAK"
   },
   "outputs": [
    {
     "data": {
      "text/plain": [
       "'Midnight Picture Show'"
      ]
     },
     "execution_count": 32,
     "metadata": {},
     "output_type": "execute_result"
    }
   ],
   "source": [
    "# Создаём пустой словарь для хранения имён режиссёров\n",
    "word_count = dict()\n",
    "\n",
    "\n",
    "# Передаём данные и словарь в функцию number_of_words для заполения \n",
    "# словаря word_count и подсчитываем количество слов с строке\n",
    "data[['overview', 'production_companies']].apply(lambda row: number_of_words(row), axis=1)\n",
    "\n",
    "# Передаём словарь в функцию dict_mean_count и преобразуем полученный\n",
    "# словарь в датасет\n",
    "final_series = pd.Series(dict_mean_count(word_count))\n",
    "\n",
    "# Фильтуем по убыванию\n",
    "final_series.sort_values(ascending=False).head(1)\n",
    "\n",
    "# Записываем результат в словарь с ответами\n",
    "answers['25'] = final_series.sort_values(ascending=False).index[0]\n",
    "answers['25'] # +"
   ]
  },
  {
   "cell_type": "markdown",
   "metadata": {
    "colab_type": "text",
    "id": "FJ1AFt90VqAP"
   },
   "source": [
    "# 26. Какие фильмы входят в 1 процент лучших по рейтингу? \n",
    "по vote_average"
   ]
  },
  {
   "cell_type": "code",
   "execution_count": 33,
   "metadata": {
    "colab": {},
    "colab_type": "code",
    "id": "8qmJVq4CVqAQ"
   },
   "outputs": [
    {
     "data": {
      "text/plain": [
       "'9, Inside Out (tt2096673), 599, The Dark Knight (tt0468569), 1191, 12 Years a Slave (tt2024544)'"
      ]
     },
     "execution_count": 33,
     "metadata": {},
     "output_type": "execute_result"
    }
   ],
   "source": [
    "# Фильтруе фатасет по столбцу vote_average и получаем фильмы которые\n",
    "# вошли в 1% лучших по рейтингу\n",
    "data[data['vote_average'] > data.quantile(0.99, numeric_only=True)['vote_average']]\n",
    "\n",
    "# Записываем результат в словарь с ответами\n",
    "answers['26'] = '9, Inside Out (tt2096673), 599, The Dark Knight (tt0468569), 1191, 12 Years a Slave (tt2024544)'\n",
    "answers['26'] # +"
   ]
  },
  {
   "cell_type": "markdown",
   "metadata": {
    "colab_type": "text",
    "id": "MdXsUXbCVqAV"
   },
   "source": [
    "# 27. Какие актеры чаще всего снимаются в одном фильме вместе?\n"
   ]
  },
  {
   "cell_type": "code",
   "execution_count": 34,
   "metadata": {
    "colab_type": "text",
    "id": "4ymnxEVoVqAW"
   },
   "outputs": [
    {
     "data": {
      "text/plain": [
       "'Daniel Radcliffe & Rupert Grint'"
      ]
     },
     "execution_count": 34,
     "metadata": {},
     "output_type": "execute_result"
    }
   ],
   "source": [
    "# Создаём пустой лист для хранения пар актёров\n",
    "actor_duets_list = list()\n",
    "\n",
    "# Передаём строку с миенами актёров функции actor_duets_count\n",
    "data['cast'].apply(actor_duets_count)\n",
    "\n",
    "# Считаем повторяющиеся значения в листе и \n",
    "# преобразуем лист в датасет\n",
    "final_series = pd.Series(Counter(actor_duets_list))\n",
    "\n",
    "# Фильтуем по убыванию\n",
    "final_series.sort_values(ascending=False).head(10)\n",
    "\n",
    "# Записываем результат в словарь с ответами\n",
    "answers['27'] = 'Daniel Radcliffe & Rupert Grint'\n",
    "answers['27'] # +"
   ]
  },
  {
   "cell_type": "markdown",
   "metadata": {
    "colab_type": "text",
    "id": "U0nONFnGVqAX"
   },
   "source": [
    "# Submission"
   ]
  },
  {
   "cell_type": "code",
   "execution_count": 35,
   "metadata": {
    "colab": {},
    "colab_type": "code",
    "id": "IfcaRO9-VqAX",
    "outputId": "0f132912-32bb-4196-c98c-abfbc4ad5a5f"
   },
   "outputs": [
    {
     "data": {
      "text/plain": [
       "{'1': '723, Pirates of the Caribbean: On Stranger Tides (tt1298650)',\n",
       " '2': '1157, Gods and Generals (tt0279111)',\n",
       " '3': '768, Winnie the Pooh (tt1449283)',\n",
       " '4': 110,\n",
       " '5': 107.0,\n",
       " '6': '239, Avatar (tt0499549)',\n",
       " '7': '1245, The Lone Range (tt1210819)',\n",
       " '8': 1478,\n",
       " '9': '599, The Dark Knight (tt0468569)',\n",
       " '10': '1245, The Lone Ranger (tt1210819)',\n",
       " '11': 'Drama',\n",
       " '12': 'Drama',\n",
       " '13': 'Peter Jackson',\n",
       " '14': 'Robert Rodriguez',\n",
       " '15': 'Chris Hemsworth',\n",
       " '16': 'Matt Damon',\n",
       " '17': 'Action',\n",
       " '18': '925, K-19: The Widowmaker (tt0267626)',\n",
       " '19': 2015,\n",
       " '20': 2014,\n",
       " '21': 'Сентябрь',\n",
       " '22': 450,\n",
       " '23': 'Peter Jackson',\n",
       " '24': 'Four By Two Productions',\n",
       " '25': 'Midnight Picture Show',\n",
       " '26': '9, Inside Out (tt2096673), 599, The Dark Knight (tt0468569), 1191, 12 Years a Slave (tt2024544)',\n",
       " '27': 'Daniel Radcliffe & Rupert Grint'}"
      ]
     },
     "execution_count": 35,
     "metadata": {},
     "output_type": "execute_result"
    }
   ],
   "source": [
    "# Ответы на вопросы\n",
    "answers"
   ]
  },
  {
   "cell_type": "code",
   "execution_count": 36,
   "metadata": {
    "colab": {},
    "colab_type": "code",
    "id": "SiRmHPl8VqAd"
   },
   "outputs": [
    {
     "data": {
      "text/plain": [
       "True"
      ]
     },
     "execution_count": 36,
     "metadata": {},
     "output_type": "execute_result"
    }
   ],
   "source": [
    "# количество ответов совподает с количеством вопросов\n",
    "27 == len(answers)"
   ]
  },
  {
   "cell_type": "code",
   "execution_count": null,
   "metadata": {
    "colab": {},
    "colab_type": "code",
    "id": "uCfuTkRbVqAg"
   },
   "outputs": [],
   "source": []
  },
  {
   "cell_type": "code",
   "execution_count": null,
   "metadata": {
    "colab": {},
    "colab_type": "code",
    "id": "Vwx3NrkSVqAl"
   },
   "outputs": [],
   "source": []
  }
 ],
 "metadata": {
  "colab": {
   "name": "Copy of [SF-DST] Movies IMBD v4.1 TEMPLATE.ipynb",
   "provenance": []
  },
  "kernelspec": {
   "display_name": "Python 3",
   "language": "python",
   "name": "python3"
  },
  "language_info": {
   "codemirror_mode": {
    "name": "ipython",
    "version": 3
   },
   "file_extension": ".py",
   "mimetype": "text/x-python",
   "name": "python",
   "nbconvert_exporter": "python",
   "pygments_lexer": "ipython3",
   "version": "3.7.6"
  }
 },
 "nbformat": 4,
 "nbformat_minor": 1
}
